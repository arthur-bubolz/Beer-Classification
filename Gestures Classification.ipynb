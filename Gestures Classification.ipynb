{
  "nbformat": 4,
  "nbformat_minor": 0,
  "metadata": {
    "colab": {
      "provenance": []
    },
    "kernelspec": {
      "name": "python3",
      "display_name": "Python 3"
    },
    "language_info": {
      "name": "python"
    },
    "accelerator": "GPU",
    "gpuClass": "standard"
  },
  "cells": [
    {
      "cell_type": "code",
      "source": [
        "!unzip '/content/archive (2).zip'"
      ],
      "metadata": {
        "colab": {
          "base_uri": "https://localhost:8080/"
        },
        "id": "cykxe1BqJM3O",
        "outputId": "f3c2544e-948b-4c80-8c7c-2f0f76348c19"
      },
      "execution_count": 4,
      "outputs": [
        {
          "output_type": "stream",
          "name": "stdout",
          "text": [
            "Archive:  /content/archive (2).zip\n",
            "  inflating: 0.csv                   \n",
            "  inflating: 1.csv                   \n",
            "  inflating: 2.csv                   \n",
            "  inflating: 3.csv                   \n"
          ]
        }
      ]
    },
    {
      "cell_type": "code",
      "execution_count": 5,
      "metadata": {
        "id": "7C5olGug6ex_"
      },
      "outputs": [],
      "source": [
        "import pandas as pd\n",
        "from sklearn.model_selection import cross_val_score, StratifiedKFold\n",
        "from sklearn.ensemble import GradientBoostingClassifier\n",
        "from sklearn.decomposition import PCA"
      ]
    },
    {
      "cell_type": "code",
      "source": [
        "#objective: classify gestures by muscle movement\n",
        "#Dataset: https://www.kaggle.com/kyr7plus/emg-4\n",
        "\n",
        "allFiles=['/content/0.csv','/content/1.csv','/content/2.csv','/content/3.csv']\n",
        "\n",
        "list = []\n",
        "for file in allFiles:\n",
        "    read = pd.read_csv(file, header = None)\n",
        "    list.append(read)\n",
        "df = pd.concat(list)"
      ],
      "metadata": {
        "id": "A6qA7xw9E0Up"
      },
      "execution_count": 6,
      "outputs": []
    },
    {
      "cell_type": "code",
      "source": [
        "df.head()"
      ],
      "metadata": {
        "colab": {
          "base_uri": "https://localhost:8080/",
          "height": 300
        },
        "id": "QYmO0CqBFGEJ",
        "outputId": "acf3c736-3aac-4aca-be14-89d6575e7ea1"
      },
      "execution_count": 7,
      "outputs": [
        {
          "output_type": "execute_result",
          "data": {
            "text/plain": [
              "     0    1    2    3     4     5      6     7     8    9   ...    55    56  \\\n",
              "0  26.0  4.0  5.0  8.0  -1.0 -13.0 -109.0 -66.0  -9.0  2.0  ... -28.0  61.0   \n",
              "1 -47.0 -6.0 -5.0 -7.0  13.0  -1.0   35.0 -10.0  10.0 -4.0  ... -25.0  47.0   \n",
              "2 -19.0 -8.0 -8.0 -8.0 -21.0  -6.0  -79.0  12.0   0.0  5.0  ... -83.0   7.0   \n",
              "3   2.0  3.0  0.0  2.0   0.0  22.0  106.0 -14.0 -16.0 -2.0  ... -38.0 -11.0   \n",
              "4   6.0  0.0  0.0 -2.0 -14.0  10.0  -51.0   5.0   7.0  0.0  ...  38.0 -35.0   \n",
              "\n",
              "    57   58    59    60    61     62    63  64  \n",
              "0  4.0  8.0   5.0   4.0  -7.0  -59.0  16.0   0  \n",
              "1  6.0  6.0   5.0  13.0  21.0  111.0  15.0   0  \n",
              "2  7.0  1.0  -8.0   7.0  21.0  114.0  48.0   0  \n",
              "3  4.0  7.0  11.0  33.0  39.0  119.0  43.0   0  \n",
              "4 -8.0  2.0   6.0 -13.0 -24.0 -112.0 -69.0   0  \n",
              "\n",
              "[5 rows x 65 columns]"
            ],
            "text/html": [
              "\n",
              "  <div id=\"df-356d8319-7b96-4e2b-9c6c-df7c32cd9225\">\n",
              "    <div class=\"colab-df-container\">\n",
              "      <div>\n",
              "<style scoped>\n",
              "    .dataframe tbody tr th:only-of-type {\n",
              "        vertical-align: middle;\n",
              "    }\n",
              "\n",
              "    .dataframe tbody tr th {\n",
              "        vertical-align: top;\n",
              "    }\n",
              "\n",
              "    .dataframe thead th {\n",
              "        text-align: right;\n",
              "    }\n",
              "</style>\n",
              "<table border=\"1\" class=\"dataframe\">\n",
              "  <thead>\n",
              "    <tr style=\"text-align: right;\">\n",
              "      <th></th>\n",
              "      <th>0</th>\n",
              "      <th>1</th>\n",
              "      <th>2</th>\n",
              "      <th>3</th>\n",
              "      <th>4</th>\n",
              "      <th>5</th>\n",
              "      <th>6</th>\n",
              "      <th>7</th>\n",
              "      <th>8</th>\n",
              "      <th>9</th>\n",
              "      <th>...</th>\n",
              "      <th>55</th>\n",
              "      <th>56</th>\n",
              "      <th>57</th>\n",
              "      <th>58</th>\n",
              "      <th>59</th>\n",
              "      <th>60</th>\n",
              "      <th>61</th>\n",
              "      <th>62</th>\n",
              "      <th>63</th>\n",
              "      <th>64</th>\n",
              "    </tr>\n",
              "  </thead>\n",
              "  <tbody>\n",
              "    <tr>\n",
              "      <th>0</th>\n",
              "      <td>26.0</td>\n",
              "      <td>4.0</td>\n",
              "      <td>5.0</td>\n",
              "      <td>8.0</td>\n",
              "      <td>-1.0</td>\n",
              "      <td>-13.0</td>\n",
              "      <td>-109.0</td>\n",
              "      <td>-66.0</td>\n",
              "      <td>-9.0</td>\n",
              "      <td>2.0</td>\n",
              "      <td>...</td>\n",
              "      <td>-28.0</td>\n",
              "      <td>61.0</td>\n",
              "      <td>4.0</td>\n",
              "      <td>8.0</td>\n",
              "      <td>5.0</td>\n",
              "      <td>4.0</td>\n",
              "      <td>-7.0</td>\n",
              "      <td>-59.0</td>\n",
              "      <td>16.0</td>\n",
              "      <td>0</td>\n",
              "    </tr>\n",
              "    <tr>\n",
              "      <th>1</th>\n",
              "      <td>-47.0</td>\n",
              "      <td>-6.0</td>\n",
              "      <td>-5.0</td>\n",
              "      <td>-7.0</td>\n",
              "      <td>13.0</td>\n",
              "      <td>-1.0</td>\n",
              "      <td>35.0</td>\n",
              "      <td>-10.0</td>\n",
              "      <td>10.0</td>\n",
              "      <td>-4.0</td>\n",
              "      <td>...</td>\n",
              "      <td>-25.0</td>\n",
              "      <td>47.0</td>\n",
              "      <td>6.0</td>\n",
              "      <td>6.0</td>\n",
              "      <td>5.0</td>\n",
              "      <td>13.0</td>\n",
              "      <td>21.0</td>\n",
              "      <td>111.0</td>\n",
              "      <td>15.0</td>\n",
              "      <td>0</td>\n",
              "    </tr>\n",
              "    <tr>\n",
              "      <th>2</th>\n",
              "      <td>-19.0</td>\n",
              "      <td>-8.0</td>\n",
              "      <td>-8.0</td>\n",
              "      <td>-8.0</td>\n",
              "      <td>-21.0</td>\n",
              "      <td>-6.0</td>\n",
              "      <td>-79.0</td>\n",
              "      <td>12.0</td>\n",
              "      <td>0.0</td>\n",
              "      <td>5.0</td>\n",
              "      <td>...</td>\n",
              "      <td>-83.0</td>\n",
              "      <td>7.0</td>\n",
              "      <td>7.0</td>\n",
              "      <td>1.0</td>\n",
              "      <td>-8.0</td>\n",
              "      <td>7.0</td>\n",
              "      <td>21.0</td>\n",
              "      <td>114.0</td>\n",
              "      <td>48.0</td>\n",
              "      <td>0</td>\n",
              "    </tr>\n",
              "    <tr>\n",
              "      <th>3</th>\n",
              "      <td>2.0</td>\n",
              "      <td>3.0</td>\n",
              "      <td>0.0</td>\n",
              "      <td>2.0</td>\n",
              "      <td>0.0</td>\n",
              "      <td>22.0</td>\n",
              "      <td>106.0</td>\n",
              "      <td>-14.0</td>\n",
              "      <td>-16.0</td>\n",
              "      <td>-2.0</td>\n",
              "      <td>...</td>\n",
              "      <td>-38.0</td>\n",
              "      <td>-11.0</td>\n",
              "      <td>4.0</td>\n",
              "      <td>7.0</td>\n",
              "      <td>11.0</td>\n",
              "      <td>33.0</td>\n",
              "      <td>39.0</td>\n",
              "      <td>119.0</td>\n",
              "      <td>43.0</td>\n",
              "      <td>0</td>\n",
              "    </tr>\n",
              "    <tr>\n",
              "      <th>4</th>\n",
              "      <td>6.0</td>\n",
              "      <td>0.0</td>\n",
              "      <td>0.0</td>\n",
              "      <td>-2.0</td>\n",
              "      <td>-14.0</td>\n",
              "      <td>10.0</td>\n",
              "      <td>-51.0</td>\n",
              "      <td>5.0</td>\n",
              "      <td>7.0</td>\n",
              "      <td>0.0</td>\n",
              "      <td>...</td>\n",
              "      <td>38.0</td>\n",
              "      <td>-35.0</td>\n",
              "      <td>-8.0</td>\n",
              "      <td>2.0</td>\n",
              "      <td>6.0</td>\n",
              "      <td>-13.0</td>\n",
              "      <td>-24.0</td>\n",
              "      <td>-112.0</td>\n",
              "      <td>-69.0</td>\n",
              "      <td>0</td>\n",
              "    </tr>\n",
              "  </tbody>\n",
              "</table>\n",
              "<p>5 rows × 65 columns</p>\n",
              "</div>\n",
              "      <button class=\"colab-df-convert\" onclick=\"convertToInteractive('df-356d8319-7b96-4e2b-9c6c-df7c32cd9225')\"\n",
              "              title=\"Convert this dataframe to an interactive table.\"\n",
              "              style=\"display:none;\">\n",
              "        \n",
              "  <svg xmlns=\"http://www.w3.org/2000/svg\" height=\"24px\"viewBox=\"0 0 24 24\"\n",
              "       width=\"24px\">\n",
              "    <path d=\"M0 0h24v24H0V0z\" fill=\"none\"/>\n",
              "    <path d=\"M18.56 5.44l.94 2.06.94-2.06 2.06-.94-2.06-.94-.94-2.06-.94 2.06-2.06.94zm-11 1L8.5 8.5l.94-2.06 2.06-.94-2.06-.94L8.5 2.5l-.94 2.06-2.06.94zm10 10l.94 2.06.94-2.06 2.06-.94-2.06-.94-.94-2.06-.94 2.06-2.06.94z\"/><path d=\"M17.41 7.96l-1.37-1.37c-.4-.4-.92-.59-1.43-.59-.52 0-1.04.2-1.43.59L10.3 9.45l-7.72 7.72c-.78.78-.78 2.05 0 2.83L4 21.41c.39.39.9.59 1.41.59.51 0 1.02-.2 1.41-.59l7.78-7.78 2.81-2.81c.8-.78.8-2.07 0-2.86zM5.41 20L4 18.59l7.72-7.72 1.47 1.35L5.41 20z\"/>\n",
              "  </svg>\n",
              "      </button>\n",
              "      \n",
              "  <style>\n",
              "    .colab-df-container {\n",
              "      display:flex;\n",
              "      flex-wrap:wrap;\n",
              "      gap: 12px;\n",
              "    }\n",
              "\n",
              "    .colab-df-convert {\n",
              "      background-color: #E8F0FE;\n",
              "      border: none;\n",
              "      border-radius: 50%;\n",
              "      cursor: pointer;\n",
              "      display: none;\n",
              "      fill: #1967D2;\n",
              "      height: 32px;\n",
              "      padding: 0 0 0 0;\n",
              "      width: 32px;\n",
              "    }\n",
              "\n",
              "    .colab-df-convert:hover {\n",
              "      background-color: #E2EBFA;\n",
              "      box-shadow: 0px 1px 2px rgba(60, 64, 67, 0.3), 0px 1px 3px 1px rgba(60, 64, 67, 0.15);\n",
              "      fill: #174EA6;\n",
              "    }\n",
              "\n",
              "    [theme=dark] .colab-df-convert {\n",
              "      background-color: #3B4455;\n",
              "      fill: #D2E3FC;\n",
              "    }\n",
              "\n",
              "    [theme=dark] .colab-df-convert:hover {\n",
              "      background-color: #434B5C;\n",
              "      box-shadow: 0px 1px 3px 1px rgba(0, 0, 0, 0.15);\n",
              "      filter: drop-shadow(0px 1px 2px rgba(0, 0, 0, 0.3));\n",
              "      fill: #FFFFFF;\n",
              "    }\n",
              "  </style>\n",
              "\n",
              "      <script>\n",
              "        const buttonEl =\n",
              "          document.querySelector('#df-356d8319-7b96-4e2b-9c6c-df7c32cd9225 button.colab-df-convert');\n",
              "        buttonEl.style.display =\n",
              "          google.colab.kernel.accessAllowed ? 'block' : 'none';\n",
              "\n",
              "        async function convertToInteractive(key) {\n",
              "          const element = document.querySelector('#df-356d8319-7b96-4e2b-9c6c-df7c32cd9225');\n",
              "          const dataTable =\n",
              "            await google.colab.kernel.invokeFunction('convertToInteractive',\n",
              "                                                     [key], {});\n",
              "          if (!dataTable) return;\n",
              "\n",
              "          const docLinkHtml = 'Like what you see? Visit the ' +\n",
              "            '<a target=\"_blank\" href=https://colab.research.google.com/notebooks/data_table.ipynb>data table notebook</a>'\n",
              "            + ' to learn more about interactive tables.';\n",
              "          element.innerHTML = '';\n",
              "          dataTable['output_type'] = 'display_data';\n",
              "          await google.colab.output.renderOutput(dataTable, element);\n",
              "          const docLink = document.createElement('div');\n",
              "          docLink.innerHTML = docLinkHtml;\n",
              "          element.appendChild(docLink);\n",
              "        }\n",
              "      </script>\n",
              "    </div>\n",
              "  </div>\n",
              "  "
            ]
          },
          "metadata": {},
          "execution_count": 7
        }
      ]
    },
    {
      "cell_type": "code",
      "source": [
        "print('Number of null values in df: ',df.isna().sum().sum())"
      ],
      "metadata": {
        "colab": {
          "base_uri": "https://localhost:8080/"
        },
        "id": "JZvw7IC-FXtD",
        "outputId": "185e5632-eca0-49b6-a73a-59a89280e049"
      },
      "execution_count": 8,
      "outputs": [
        {
          "output_type": "stream",
          "name": "stdout",
          "text": [
            "Number of null values in df:  0\n"
          ]
        }
      ]
    },
    {
      "cell_type": "code",
      "source": [
        "#the column 64 describes the classes of the gestures (from 0 to 3)\n",
        "\n",
        "x = df.drop([64],axis=1)\n",
        "y = df[64]"
      ],
      "metadata": {
        "id": "_YNHHwRHGspi"
      },
      "execution_count": 9,
      "outputs": []
    },
    {
      "cell_type": "code",
      "source": [
        "#applying pca to features, to reduce the dimesionality\n",
        "\n",
        "pca = PCA(n_components=40) #resizing for 40 components\n",
        "x_pca = pca.fit_transform(x)"
      ],
      "metadata": {
        "id": "xnSs8QNWJZtM"
      },
      "execution_count": 10,
      "outputs": []
    },
    {
      "cell_type": "code",
      "source": [
        "#showing the variance of the chosen components\n",
        "print(f'Total information retained from data (on each Component): \\n{pca.explained_variance_ratio_}')\n",
        "print(f'Percentage of total representation: {sum(pca.explained_variance_ratio_)}')\n"
      ],
      "metadata": {
        "colab": {
          "base_uri": "https://localhost:8080/"
        },
        "id": "27w-vohGKgwD",
        "outputId": "aec37715-3d50-429a-f904-88c08f276986"
      },
      "execution_count": 11,
      "outputs": [
        {
          "output_type": "stream",
          "name": "stdout",
          "text": [
            "Total information retained from data (on each Component): \n",
            "[0.07220325 0.07008469 0.06072792 0.05484404 0.05300409 0.04713719\n",
            " 0.04599854 0.04455005 0.03924296 0.03047954 0.0295903  0.02870001\n",
            " 0.0276893  0.02628102 0.02435048 0.02381102 0.0181809  0.01758357\n",
            " 0.01697782 0.01515197 0.01468179 0.01386247 0.01362829 0.01285717\n",
            " 0.01235655 0.01125177 0.01108888 0.01070569 0.01049752 0.01023475\n",
            " 0.00876117 0.00851693 0.00788317 0.00785001 0.00776865 0.00742114\n",
            " 0.00690878 0.0066864  0.00658581 0.00620673]\n",
            "Percentage of total representation: 0.9423423366003134\n"
          ]
        }
      ]
    },
    {
      "cell_type": "code",
      "source": [
        "#validation\n",
        "\n",
        "skfold = StratifiedKFold(n_splits=5, shuffle=True)\n",
        "\n",
        "model = GradientBoostingClassifier(n_estimators=250, min_samples_leaf=2, max_depth=5)\n",
        "\n",
        "result = cross_val_score(model,x_pca,y,cv = skfold)"
      ],
      "metadata": {
        "id": "eaRcwP10FfwB"
      },
      "execution_count": 12,
      "outputs": []
    },
    {
      "cell_type": "code",
      "source": [
        "print(result.mean())"
      ],
      "metadata": {
        "id": "SqVWWZatHO0K",
        "colab": {
          "base_uri": "https://localhost:8080/"
        },
        "outputId": "8e1d6e47-6745-496d-c858-8969d126130d"
      },
      "execution_count": 13,
      "outputs": [
        {
          "output_type": "stream",
          "name": "stdout",
          "text": [
            "0.8728370757677979\n"
          ]
        }
      ]
    }
  ]
}